{
 "cells": [
  {
   "cell_type": "code",
   "execution_count": 2,
   "metadata": {},
   "outputs": [
    {
     "name": "stdout",
     "output_type": "stream",
     "text": [
      "Collecting fastapi>=0.104.1 (from -r requirements.txt (line 1))\n",
      "  Downloading fastapi-0.115.11-py3-none-any.whl.metadata (27 kB)\n",
      "Collecting pydantic>=2.10.6 (from -r requirements.txt (line 2))\n",
      "  Using cached pydantic-2.10.6-py3-none-any.whl.metadata (30 kB)\n",
      "Collecting anyio>=4.5.0 (from -r requirements.txt (line 3))\n",
      "  Using cached anyio-4.8.0-py3-none-any.whl.metadata (4.6 kB)\n",
      "Collecting mcp (from -r requirements.txt (line 4))\n",
      "  Downloading mcp-1.4.1-py3-none-any.whl.metadata (18 kB)\n",
      "Requirement already satisfied: python-dotenv in c:\\users\\tonyl\\appdata\\local\\programs\\python\\python312\\lib\\site-packages (from -r requirements.txt (line 5)) (1.0.1)\n",
      "Collecting uvicorn (from -r requirements.txt (line 6))\n",
      "  Using cached uvicorn-0.34.0-py3-none-any.whl.metadata (6.5 kB)\n",
      "Requirement already satisfied: pyodbc in c:\\users\\tonyl\\appdata\\local\\programs\\python\\python312\\lib\\site-packages (from -r requirements.txt (line 8)) (5.2.0)\n",
      "Collecting starlette<0.47.0,>=0.40.0 (from fastapi>=0.104.1->-r requirements.txt (line 1))\n",
      "  Downloading starlette-0.46.1-py3-none-any.whl.metadata (6.2 kB)\n",
      "Requirement already satisfied: typing-extensions>=4.8.0 in c:\\users\\tonyl\\appdata\\local\\programs\\python\\python312\\lib\\site-packages (from fastapi>=0.104.1->-r requirements.txt (line 1)) (4.12.2)\n",
      "Requirement already satisfied: annotated-types>=0.6.0 in c:\\users\\tonyl\\appdata\\local\\programs\\python\\python312\\lib\\site-packages (from pydantic>=2.10.6->-r requirements.txt (line 2)) (0.7.0)\n",
      "Collecting pydantic-core==2.27.2 (from pydantic>=2.10.6->-r requirements.txt (line 2))\n",
      "  Using cached pydantic_core-2.27.2-cp312-cp312-win_amd64.whl.metadata (6.7 kB)\n",
      "Requirement already satisfied: idna>=2.8 in c:\\users\\tonyl\\appdata\\local\\programs\\python\\python312\\lib\\site-packages (from anyio>=4.5.0->-r requirements.txt (line 3)) (3.10)\n",
      "Collecting sniffio>=1.1 (from anyio>=4.5.0->-r requirements.txt (line 3))\n",
      "  Using cached sniffio-1.3.1-py3-none-any.whl.metadata (3.9 kB)\n",
      "Collecting httpx-sse>=0.4 (from mcp->-r requirements.txt (line 4))\n",
      "  Downloading httpx_sse-0.4.0-py3-none-any.whl.metadata (9.0 kB)\n",
      "Collecting httpx>=0.27 (from mcp->-r requirements.txt (line 4))\n",
      "  Downloading httpx-0.28.1-py3-none-any.whl.metadata (7.1 kB)\n",
      "Collecting pydantic-settings>=2.5.2 (from mcp->-r requirements.txt (line 4))\n",
      "  Downloading pydantic_settings-2.8.1-py3-none-any.whl.metadata (3.5 kB)\n",
      "Collecting sse-starlette>=1.6.1 (from mcp->-r requirements.txt (line 4))\n",
      "  Downloading sse_starlette-2.2.1-py3-none-any.whl.metadata (7.8 kB)\n",
      "Collecting click>=7.0 (from uvicorn->-r requirements.txt (line 6))\n",
      "  Using cached click-8.1.8-py3-none-any.whl.metadata (2.3 kB)\n",
      "Collecting h11>=0.8 (from uvicorn->-r requirements.txt (line 6))\n",
      "  Using cached h11-0.14.0-py3-none-any.whl.metadata (8.2 kB)\n",
      "Requirement already satisfied: colorama in c:\\users\\tonyl\\appdata\\roaming\\python\\python312\\site-packages (from click>=7.0->uvicorn->-r requirements.txt (line 6)) (0.4.6)\n",
      "Requirement already satisfied: certifi in c:\\users\\tonyl\\appdata\\local\\programs\\python\\python312\\lib\\site-packages (from httpx>=0.27->mcp->-r requirements.txt (line 4)) (2024.8.30)\n",
      "Collecting httpcore==1.* (from httpx>=0.27->mcp->-r requirements.txt (line 4))\n",
      "  Downloading httpcore-1.0.7-py3-none-any.whl.metadata (21 kB)\n",
      "Downloading fastapi-0.115.11-py3-none-any.whl (94 kB)\n",
      "   ---------------------------------------- 0.0/94.9 kB ? eta -:--:--\n",
      "   ----------------- ---------------------- 41.0/94.9 kB 1.9 MB/s eta 0:00:01\n",
      "   ---------------------------------------- 94.9/94.9 kB 1.3 MB/s eta 0:00:00\n",
      "Using cached pydantic-2.10.6-py3-none-any.whl (431 kB)\n",
      "Using cached pydantic_core-2.27.2-cp312-cp312-win_amd64.whl (2.0 MB)\n",
      "Using cached anyio-4.8.0-py3-none-any.whl (96 kB)\n",
      "Downloading mcp-1.4.1-py3-none-any.whl (72 kB)\n",
      "   ---------------------------------------- 0.0/72.4 kB ? eta -:--:--\n",
      "   ---------------------------------------- 72.4/72.4 kB 1.3 MB/s eta 0:00:00\n",
      "Using cached uvicorn-0.34.0-py3-none-any.whl (62 kB)\n",
      "Using cached click-8.1.8-py3-none-any.whl (98 kB)\n",
      "Using cached h11-0.14.0-py3-none-any.whl (58 kB)\n",
      "Downloading httpx-0.28.1-py3-none-any.whl (73 kB)\n",
      "   ---------------------------------------- 0.0/73.5 kB ? eta -:--:--\n",
      "   ---------------------------------------- 73.5/73.5 kB 2.0 MB/s eta 0:00:00\n",
      "Downloading httpcore-1.0.7-py3-none-any.whl (78 kB)\n",
      "   ---------------------------------------- 0.0/78.6 kB ? eta -:--:--\n",
      "   ---------------------------------------- 78.6/78.6 kB 2.1 MB/s eta 0:00:00\n",
      "Downloading httpx_sse-0.4.0-py3-none-any.whl (7.8 kB)\n",
      "Downloading pydantic_settings-2.8.1-py3-none-any.whl (30 kB)\n",
      "Using cached sniffio-1.3.1-py3-none-any.whl (10 kB)\n",
      "Downloading sse_starlette-2.2.1-py3-none-any.whl (10 kB)\n",
      "Downloading starlette-0.46.1-py3-none-any.whl (71 kB)\n",
      "   ---------------------------------------- 0.0/72.0 kB ? eta -:--:--\n",
      "   ---------------------------------------- 72.0/72.0 kB 2.0 MB/s eta 0:00:00\n",
      "Installing collected packages: sniffio, pydantic-core, httpx-sse, h11, click, uvicorn, pydantic, httpcore, anyio, starlette, pydantic-settings, httpx, sse-starlette, fastapi, mcp\n",
      "  Attempting uninstall: pydantic-core\n",
      "    Found existing installation: pydantic_core 2.23.4\n",
      "    Uninstalling pydantic_core-2.23.4:\n",
      "      Successfully uninstalled pydantic_core-2.23.4\n",
      "  Attempting uninstall: pydantic\n",
      "    Found existing installation: pydantic 2.9.2\n",
      "    Uninstalling pydantic-2.9.2:\n",
      "      Successfully uninstalled pydantic-2.9.2\n",
      "Successfully installed anyio-4.8.0 click-8.1.8 fastapi-0.115.11 h11-0.14.0 httpcore-1.0.7 httpx-0.28.1 httpx-sse-0.4.0 mcp-1.4.1 pydantic-2.10.6 pydantic-core-2.27.2 pydantic-settings-2.8.1 sniffio-1.3.1 sse-starlette-2.2.1 starlette-0.46.1 uvicorn-0.34.0\n",
      "Note: you may need to restart the kernel to use updated packages.\n"
     ]
    },
    {
     "name": "stderr",
     "output_type": "stream",
     "text": [
      "  WARNING: The script uvicorn.exe is installed in 'c:\\Users\\tonyl\\AppData\\Local\\Programs\\Python\\Python312\\Scripts' which is not on PATH.\n",
      "  Consider adding this directory to PATH or, if you prefer to suppress this warning, use --no-warn-script-location.\n",
      "  WARNING: The script httpx.exe is installed in 'c:\\Users\\tonyl\\AppData\\Local\\Programs\\Python\\Python312\\Scripts' which is not on PATH.\n",
      "  Consider adding this directory to PATH or, if you prefer to suppress this warning, use --no-warn-script-location.\n",
      "  WARNING: The script fastapi.exe is installed in 'c:\\Users\\tonyl\\AppData\\Local\\Programs\\Python\\Python312\\Scripts' which is not on PATH.\n",
      "  Consider adding this directory to PATH or, if you prefer to suppress this warning, use --no-warn-script-location.\n",
      "  WARNING: The script mcp.exe is installed in 'c:\\Users\\tonyl\\AppData\\Local\\Programs\\Python\\Python312\\Scripts' which is not on PATH.\n",
      "  Consider adding this directory to PATH or, if you prefer to suppress this warning, use --no-warn-script-location.\n",
      "\n",
      "[notice] A new release of pip is available: 24.0 -> 25.0.1\n",
      "[notice] To update, run: python.exe -m pip install --upgrade pip\n"
     ]
    }
   ],
   "source": [
    "%pip install -r requirements.txt"
   ]
  },
  {
   "cell_type": "code",
   "execution_count": null,
   "metadata": {},
   "outputs": [
    {
     "name": "stdout",
     "output_type": "stream",
     "text": [
      "Attempting to connect using: DRIVER={ODBC Driver 18 for SQL Server};SERVER=71.19.253.106,1433;DATABASE=WNGBAK;UID=sa;PWD=lannet\n",
      "Connection failed: ('08001', '[08001] [Microsoft][ODBC Driver 18 for SQL Server]SSL Provider: The certificate chain was issued by an authority that is not trusted.\\r\\n (-2146893019) (SQLDriverConnect); [08001] [Microsoft][ODBC Driver 18 for SQL Server]Client unable to establish connection. For solutions related to encryption errors, see https://go.microsoft.com/fwlink/?linkid=2226722 (-2146893019)')\n"
     ]
    }
   ],
   "source": [
    "import pyodbc\n",
    "\n",
    "# Connection string with your credentials\n",
    "conn_str = (\n",
    "    \"DRIVER={ODBC Driver 18 for SQL Server};\"\n",
    "    \"SERVER=71.19.253.106,1433;\"\n",
    "    \"DATABASE=WNGBAK;\"\n",
    "    \"UID=sa;\"\n",
    "    \"PWD=\"  # Empty password\n",
    ")\n",
    "\n",
    "try:\n",
    "    print(f\"Attempting to connect using: {conn_str}\")\n",
    "    conn = pyodbc.connect(conn_str)\n",
    "    print(\"Connection successful!\")\n",
    "    conn.close()\n",
    "except Exception as e:\n",
    "    print(f\"Connection failed: {str(e)}\")"
   ]
  },
  {
   "cell_type": "code",
   "execution_count": null,
   "metadata": {},
   "outputs": [],
   "source": [
    "if __name__ == \"__main__\":\n",
    "    server = '71.19.253.106'\n",
    "    database = 'WNGBAK'\n",
    "    username = 'sa'\n",
    "    password = ''\n",
    "    driver = '{ODBC Driver 18 for SQL Server}'\n",
    "    conn_str = f\"DRIVER={driver};SERVER={server},1433;DATABASE={database};UID={username};PWD={password};TrustServerCertificate=yes\"\n",
    "    conn = pyodbc.connect(conn_str)\n",
    "    \n"
   ]
  },
  {
   "cell_type": "code",
   "execution_count": null,
   "metadata": {},
   "outputs": [],
   "source": []
  }
 ],
 "metadata": {
  "kernelspec": {
   "display_name": "Python 3",
   "language": "python",
   "name": "python3"
  },
  "language_info": {
   "codemirror_mode": {
    "name": "ipython",
    "version": 3
   },
   "file_extension": ".py",
   "mimetype": "text/x-python",
   "name": "python",
   "nbconvert_exporter": "python",
   "pygments_lexer": "ipython3",
   "version": "3.12.4"
  }
 },
 "nbformat": 4,
 "nbformat_minor": 2
}
